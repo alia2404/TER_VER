{
 "cells": [
  {
   "cell_type": "code",
   "execution_count": 29,
   "id": "ce13c520",
   "metadata": {},
   "outputs": [],
   "source": [
    "import numpy as np "
   ]
  },
  {
   "cell_type": "code",
   "execution_count": 30,
   "id": "f186d6d2",
   "metadata": {},
   "outputs": [],
   "source": [
    "def set_cube(n):\n",
    "    values=\"\"\n",
    "    list_values=[]\n",
    "    \n",
    "    for i in range (n):\n",
    "        cur = input(values).split()\n",
    "        if len(cur) == 6:\n",
    "            cur = [int(i) for i in cur]\n",
    "            list_values.append(np.array(cur))\n",
    "    return list_values\n"
   ]
  },
  {
   "cell_type": "code",
   "execution_count": 42,
   "id": "715fdc24",
   "metadata": {},
   "outputs": [],
   "source": [
    "example_1=[np.array([1,2,3,4,5,6]),np.array([6,5,4,3,2,1])]\n",
    "example_2=[np.array([1,2,3,1,2,3]),np.array([5,6,7,3,1,4]),np.array([5,5,5,5,5,5])]\n",
    "example_3=[i*np.array([1,1,1,1,1,1]) for i in range(1,4)]\n",
    "example_3.append(3*np.array([1,1,1,1,1,1]))"
   ]
  },
  {
   "cell_type": "code",
   "execution_count": 106,
   "id": "09ed2ab5",
   "metadata": {},
   "outputs": [],
   "source": [
    "def solution(example):\n",
    "    sum=0\n",
    "    for i in range(len(example)):\n",
    "        for j in range(len(example)):\n",
    "            if (i==j):\n",
    "                        continue\n",
    "            for k1 in range(6):\n",
    "                for k2 in range(6):\n",
    "                    sum+=float(abs((example[i][k1]-example[j][k2]))**3)\n",
    "    return sum/(len(example) * (len(example) - 1) *36)"
   ]
  },
  {
   "cell_type": "code",
   "execution_count": 112,
   "id": "15cce5e8",
   "metadata": {},
   "outputs": [
    {
     "data": {
      "text/plain": [
       "3.1666666666666665"
      ]
     },
     "execution_count": 112,
     "metadata": {},
     "output_type": "execute_result"
    }
   ],
   "source": [
    "solution(example_3)"
   ]
  }
 ],
 "metadata": {
  "kernelspec": {
   "display_name": "base",
   "language": "python",
   "name": "python3"
  },
  "language_info": {
   "codemirror_mode": {
    "name": "ipython",
    "version": 3
   },
   "file_extension": ".py",
   "mimetype": "text/x-python",
   "name": "python",
   "nbconvert_exporter": "python",
   "pygments_lexer": "ipython3",
   "version": "3.9.13"
  },
  "vscode": {
   "interpreter": {
    "hash": "3abb115f6cfa06f21b9f1cb6d2a8ed779514dfca4ca4424a56968daf4a6cbb5d"
   }
  }
 },
 "nbformat": 4,
 "nbformat_minor": 5
}
